{
 "cells": [
  {
   "cell_type": "code",
   "execution_count": 1,
   "metadata": {},
   "outputs": [],
   "source": [
    "import PYEO_model\n",
    "import os, sys\n",
    "sys.path.append(r\"/path/to/pyeo\")\n",
    "import pyeo.core as pyeo"
   ]
  },
  {
   "cell_type": "code",
   "execution_count": null,
   "metadata": {},
   "outputs": [],
   "source": [
    "#set input\n",
    "training_tif = \n",
    "training_shp = \n",
    "training_filedname = 'Id'\n",
    "\n",
    "tobe_classified_tif = training_tif\n",
    "\n",
    "validation_shp = \n",
    "validation_filedname = 'Id'\n",
    "\n",
    "nodata = 0"
   ]
  },
  {
   "cell_type": "code",
   "execution_count": null,
   "metadata": {},
   "outputs": [],
   "source": [
    "#set output folder\n",
    "out_dir = \n",
    "out_model = os.path.join(out_dir,'model.pkl')\n",
    "out_training_summary = os.path.join(outdir, 'training_summary.csv')\n",
    "out_classified = "
   ]
  },
  {
   "cell_type": "code",
   "execution_count": null,
   "metadata": {},
   "outputs": [],
   "source": [
    "model_pool = {\n",
    "    \n",
    "}"
   ]
  },
  {
   "cell_type": "code",
   "execution_count": null,
   "metadata": {},
   "outputs": [],
   "source": [
    "#build and save model\n",
    "does_model_exist = False"
   ]
  },
  {
   "cell_type": "code",
   "execution_count": null,
   "metadata": {},
   "outputs": [],
   "source": [
    "if not does_model_exist:\n",
    "    features, classes = PYEO_model.get_training_data(tiff, shp, attribute=training_filedname)\n",
    "    summarise_training(in_classes= classes,out_csv= training_summary_out, sumarise_type = 'count')\n",
    "    model, score = PYEO_model.train_model_rf(features,classes)\n",
    "    PYEO_model.save_model(model, model_out)    \n",
    "else:\n",
    "    model = PYEO_model.load_model(model_out)"
   ]
  },
  {
   "cell_type": "code",
   "execution_count": null,
   "metadata": {},
   "outputs": [],
   "source": [
    "#classify image\n",
    "PYEO_model.classify_image(in_image_path= tobe_classified, model=model, out_image_path=,num_chunks =10)#need to chagne num_chunks"
   ]
  },
  {
   "cell_type": "code",
   "execution_count": null,
   "metadata": {},
   "outputs": [],
   "source": [
    "#validate the map and generate validation table \n",
    "PYEO_model.validate_classes(inRaster=out_classified, shpdir= validation_shp , field_name=validation_filedname, \n",
    "                            out_fldr=out_dir,nodata = nodata)"
   ]
  }
 ],
 "metadata": {
  "kernelspec": {
   "display_name": "Python 3",
   "language": "python",
   "name": "python3"
  },
  "language_info": {
   "codemirror_mode": {
    "name": "ipython",
    "version": 3
   },
   "file_extension": ".py",
   "mimetype": "text/x-python",
   "name": "python",
   "nbconvert_exporter": "python",
   "pygments_lexer": "ipython3",
   "version": "3.6.7"
  }
 },
 "nbformat": 4,
 "nbformat_minor": 2
}
