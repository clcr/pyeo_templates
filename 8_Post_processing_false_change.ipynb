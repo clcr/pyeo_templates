{
 "cells": [
  {
   "cell_type": "code",
   "execution_count": null,
   "metadata": {},
   "outputs": [],
   "source": [
    "import os,sys\n",
    "sys.path.append(r\"../templates/\")\n",
    "import PYEO_model\n",
    "sys.path.append(r\"/opt/pyeo\")\n",
    "import pyeo.core as pyeo\n",
    "\n",
    "from osgeo import gdal, gdal_array\n",
    "import numpy as np\n",
    "\n",
    "import geoTiff,dealwithShp\n",
    "import pdb\n",
    "import os\n",
    "import s2_functions\n",
    "import csv"
   ]
  },
  {
   "cell_type": "code",
   "execution_count": null,
   "metadata": {},
   "outputs": [],
   "source": [
    "def s2_name(tiff_name):\n",
    "    parts = tiff_name.split('_')\n",
    "   # pdb.set_trace()\n",
    "    date = parts[2][:8]; N = parts[3];row = parts[4];path = parts[5]\n",
    "    return date, N, row, path\n",
    "\n",
    "def match_mask(tiff):\n",
    "    mask = tiff[:-4]+'.msk'\n",
    "    return mask\n"
   ]
  },
  {
   "cell_type": "code",
   "execution_count": null,
   "metadata": {},
   "outputs": [],
   "source": [
    "temp_g = gdal.Open(tiff_list[0])\n",
    "temp_a = gdal_array.DatasetReadAsArray(temp_g)\n",
    "\n",
    "stack3d = np.zeros((temp_a.shape[0],temp_a.shape[1],len(tiff_list)))\n",
    "\n",
    "n=0\n",
    "for tif in tiff_list:\n",
    "    s1 = gdal.Open(tif);\n",
    "    a1 = gdal_array.DatasetReadAsArray(s1)\n",
    "    a1_c = np.zeros(a1.shape)\n",
    "    a1_c[a1 == 3] = 1\n",
    "\n",
    "    stack3d[:,:,n] = a1_c\n",
    "    n+=1\n",
    "\n",
    "out = np.sum(stack3d,axis = 2)\n",
    "\n",
    "r_out = ' '\n",
    "geoTiff.create(r_out, s1, a1, out)\n",
    "\n"
   ]
  }
 ],
 "metadata": {
  "kernelspec": {
   "display_name": "Python 3",
   "language": "python",
   "name": "python3"
  },
  "language_info": {
   "codemirror_mode": {
    "name": "ipython",
    "version": 3
   },
   "file_extension": ".py",
   "mimetype": "text/x-python",
   "name": "python",
   "nbconvert_exporter": "python",
   "pygments_lexer": "ipython3",
   "version": "3.6.7"
  }
 },
 "nbformat": 4,
 "nbformat_minor": 2
}
