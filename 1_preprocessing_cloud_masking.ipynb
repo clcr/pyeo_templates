{
 "cells": [
  {
   "cell_type": "markdown",
   "metadata": {},
   "source": [
    "# This code is to apply a revised cloud masking algorithm that combines Fmask and Sen2Cor mask.  \n",
    "\n",
    "This algirthm is used in PYEO. It combines Fmask and Sen2cor mask and has a buffer of 5 pixels (50m with Sentinel-2 10m resolution).Fmask requires orginal L1 data (.safe file), and Sen2cor mask is generated duirng the preprocessing from L1 (.safe)to L2 (.safe). \n",
    "\n",
    "output: a mask file (.msk) with the same name as the input s2 data, which combines fmask and sen2cor mask. \n",
    "\n",
    "We applied an extreme cloud masking to elimiate the commission error in further change detection. This will help elimate false detection.  "
   ]
  },
  {
   "cell_type": "code",
   "execution_count": null,
   "metadata": {},
   "outputs": [],
   "source": [
    "import os,sys\n",
    "sys.path.append(r\"../templates/\")\n",
    "import PYEO_model\n",
    "sys.path.append(r\"/opt/pyeo\")\n",
    "import pyeo.core as pyeo"
   ]
  },
  {
   "cell_type": "code",
   "execution_count": null,
   "metadata": {},
   "outputs": [],
   "source": [
    "# Set input files \n",
    "l1_safe = \" \"\n",
    "l2_safe = \" \""
   ]
  },
  {
   "cell_type": "code",
   "execution_count": null,
   "metadata": {},
   "outputs": [],
   "source": [
    "# Set output dir \n",
    "output_mask_path = \" \""
   ]
  },
  {
   "cell_type": "code",
   "execution_count": null,
   "metadata": {},
   "outputs": [],
   "source": [
    "# Create mask \n",
    "create_mask_from_sen2cor_and_fmask(l1_safe, l2_safe, output_mask_path)"
   ]
  },
  {
   "cell_type": "code",
   "execution_count": null,
   "metadata": {},
   "outputs": [],
   "source": [
    "# To further stack all s2 bands into one .tif file, using: \n",
    "out_s2_tif = \" \" \n",
    "pyeo.stack_sentinel_2_bands(l2_safe, out_s2_tif, band='10m')"
   ]
  },
  {
   "cell_type": "code",
   "execution_count": null,
   "metadata": {},
   "outputs": [],
   "source": []
  }
 ],
 "metadata": {
  "kernelspec": {
   "display_name": "Python 3",
   "language": "python",
   "name": "python3"
  },
  "language_info": {
   "codemirror_mode": {
    "name": "ipython",
    "version": 3
   },
   "file_extension": ".py",
   "mimetype": "text/x-python",
   "name": "python",
   "nbconvert_exporter": "python",
   "pygments_lexer": "ipython3",
   "version": "3.6.7"
  }
 },
 "nbformat": 4,
 "nbformat_minor": 2
}
