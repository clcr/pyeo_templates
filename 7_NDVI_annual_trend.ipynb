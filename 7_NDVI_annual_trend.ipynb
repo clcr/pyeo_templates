{
 "cells": [
  {
   "cell_type": "code",
   "execution_count": null,
   "metadata": {},
   "outputs": [],
   "source": [
    "import os,sys\n",
    "sys.path.append(r\"../templates/\")\n",
    "import PYEO_model\n",
    "sys.path.append(r\"/opt/pyeo\")\n",
    "import pyeo.core as pyeo\n",
    "\n",
    "from osgeo import gdal, gdal_array\n",
    "import numpy as np\n",
    "\n",
    "import geoTiff,dealwithShp\n",
    "import pdb\n",
    "import os\n",
    "import s2_functions\n",
    "import csv\n"
   ]
  },
  {
   "cell_type": "code",
   "execution_count": null,
   "metadata": {},
   "outputs": [],
   "source": [
    "def s2_name(tiff_name):\n",
    "    parts = tiff_name.split('_')\n",
    "   # pdb.set_trace()\n",
    "    date = parts[2][:8]; N = parts[3];row = parts[4];path = parts[5]\n",
    "    return date, N, row, path\n",
    "\n",
    "def match_mask(tiff):\n",
    "    mask = tiff[:-4]+'.msk'\n",
    "    return mask\n"
   ]
  },
  {
   "cell_type": "code",
   "execution_count": null,
   "metadata": {},
   "outputs": [],
   "source": [
    "# Set input \n",
    "#images to process\n",
    "s2_path = \"  \"\n",
    "\n",
    "#shp of polygons where the NDVI will be generated and extracted\n",
    "shp =  \" .shp\""
   ]
  },
  {
   "cell_type": "code",
   "execution_count": null,
   "metadata": {},
   "outputs": [],
   "source": [
    "# Set output \n",
    "# path to a table (.csv) where the NDVI number will be written to\n",
    "out_csv = \" \""
   ]
  },
  {
   "cell_type": "code",
   "execution_count": null,
   "metadata": {},
   "outputs": [],
   "source": [
    "# caculate NDVI\n",
    "tiff_list = s2_functions.search_files_fulldir(input_path=s2_path,search_type='end', search_key='.tif')\n",
    "for tiff in tiff_list:\n",
    "         print('------------------')\n",
    "         print('working on: ' + tiff)\n",
    "         g, s0 = s2_functions.readTiff(tiff,data_type=np.int32)\n",
    "         NDVI = s2_functions.cal_vegIndex(s0=s0,s2res='10m')[:,:,0] \n",
    "\n",
    "         date, N, row, path = s2_name(os.path.basename(tiff))\n",
    "         outname = os.path.join(os.path.dirname(tiff), date+ '_'+ N + '_' + row + '_' + path + '_NDVI.tif')\n",
    "         print(outname)\n",
    "\n",
    "         geoTiff.create(outname, g,s0,masked_NDVI,data_type=gdal.GDT_Int32)\n"
   ]
  },
  {
   "cell_type": "code",
   "execution_count": null,
   "metadata": {},
   "outputs": [],
   "source": [
    "NDVI_list = s2_functions.search_files_fulldir(input_path=s2_path,search_type='end', search_key='_NDVI.tif')\n",
    "\n",
    "f = open(out_csv,'w')\n",
    "writer = csv.writer(f)\n",
    "\n",
    "#\n",
    "titles = ['date','id_1', 'id_2']\n",
    "writer.writerow(titles)\n",
    "#\n",
    "first_row = True\n",
    "#\n",
    "for NDVI in NDVI_list:\n",
    "         all = []\n",
    "         date = os.path.basename(NDVI).split('_')[0]\n",
    "         all.append(date)\n",
    "         g = gdal.Open(NDVI)\n",
    "         s0 = gdal_array.DatasetReadAsArray(g)\n",
    "         regression, id, NDVI = dealwithShp_v3.getRaster(s0_fldr=s2_path, shpfile_path=shp, field_name='id', s0data=g,\n",
    "                                                          nodata=0)\n"
   ]
  }
 ],
 "metadata": {
  "kernelspec": {
   "display_name": "Python 3",
   "language": "python",
   "name": "python3"
  },
  "language_info": {
   "codemirror_mode": {
    "name": "ipython",
    "version": 3
   },
   "file_extension": ".py",
   "mimetype": "text/x-python",
   "name": "python",
   "nbconvert_exporter": "python",
   "pygments_lexer": "ipython3",
   "version": "3.6.7"
  }
 },
 "nbformat": 4,
 "nbformat_minor": 2
}
