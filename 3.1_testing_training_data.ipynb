{
 "cells": [
  {
   "cell_type": "markdown",
   "metadata": {},
   "source": [
    "This is a template to explore training dataset that used to train a machine learning model. The output include:\n",
    "\n",
    "1. a statistic summary of the input training data for the model (export as .csv file).\n",
    "2. a trained machine learning model. In this example a random forest model is used (export as a .pkl file). \n",
    " "
   ]
  },
  {
   "cell_type": "code",
   "execution_count": 1,
   "metadata": {},
   "outputs": [
    {
     "name": "stderr",
     "output_type": "stream",
     "text": [
      "/opt/tljh/user/lib/python3.6/site-packages/sklearn/ensemble/weight_boosting.py:29: DeprecationWarning: numpy.core.umath_tests is an internal NumPy module and should not be imported. It will be removed in a future NumPy release.\n",
      "  from numpy.core.umath_tests import inner1d\n"
     ]
    },
    {
     "name": "stdout",
     "output_type": "stream",
     "text": [
      "Tenacity, Planet and Multiprocessing are required for Planet data downloading\n"
     ]
    }
   ],
   "source": [
    "import os,sys\n",
    "sys.path.append(r\"../templates/\")\n",
    "import PYEO_model\n",
    "sys.path.append(r\"/opt/pyeo\")\n",
    "import pyeo.core as pyeo\n",
    "import numpy as np\n",
    "import csv"
   ]
  },
  {
   "cell_type": "code",
   "execution_count": 2,
   "metadata": {},
   "outputs": [],
   "source": [
    "#set input parameters \n",
    "os.chdir('/home/jupyter-yaqing/')\n",
    "\n",
    "training_tif = \"Data/Brazil/2018.tif\"\n",
    "training_shp = \"Data/Brazil/shp/training/training.shp\"\n",
    "training_filedname = 'Id'\n"
   ]
  },
  {
   "cell_type": "code",
   "execution_count": 3,
   "metadata": {},
   "outputs": [],
   "source": [
    "#set output folder\n",
    "out_dir = \"Output/template3_model_building/\"\n",
    "out_training_summary = os.path.join(out_dir, 'training_summary.csv')\n"
   ]
  },
  {
   "cell_type": "code",
   "execution_count": 4,
   "metadata": {},
   "outputs": [],
   "source": [
    "# get training dataset \n",
    "\n",
    "features, classes = PYEO_model.get_training_data(training_tif, training_shp, attribute=training_filedname)\n"
   ]
  },
  {
   "cell_type": "code",
   "execution_count": null,
   "metadata": {},
   "outputs": [],
   "source": [
    "# Explore training dataset: export the siganiture of each training pixel   \n",
    "sigs = np.vstack((classes, features.T))\n",
    "out_sig= os.path.join(out_dir, 'sig.csv')\n",
    "with open(out_sig , 'w', newline='') as outsig:\n",
    "    writer = csv.writer(outsig)\n",
    "    writer.writerows(sigs.T)\n"
   ]
  },
  {
   "cell_type": "code",
   "execution_count": null,
   "metadata": {},
   "outputs": [],
   "source": [
    "# Explore training dataset: generate statistical summary for each class:\n",
    "PYEO_model.summarise_training(in_classes= classes,out_csv= out_training_summary, sumarise_type = 'count')"
   ]
  },
  {
   "cell_type": "code",
   "execution_count": null,
   "metadata": {},
   "outputs": [],
   "source": []
  },
  {
   "cell_type": "code",
   "execution_count": null,
   "metadata": {},
   "outputs": [],
   "source": []
  }
 ],
 "metadata": {
  "kernelspec": {
   "display_name": "Python 3",
   "language": "python",
   "name": "python3"
  },
  "language_info": {
   "codemirror_mode": {
    "name": "ipython",
    "version": 3
   },
   "file_extension": ".py",
   "mimetype": "text/x-python",
   "name": "python",
   "nbconvert_exporter": "python",
   "pygments_lexer": "ipython3",
   "version": "3.6.7"
  }
 },
 "nbformat": 4,
 "nbformat_minor": 2
}
