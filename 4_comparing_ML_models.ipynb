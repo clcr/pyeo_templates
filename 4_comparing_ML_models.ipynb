{
 "cells": [
  {
   "cell_type": "markdown",
   "metadata": {},
   "source": [
    "# Introduction\n",
    "\n",
    "This is a template to compare different machine learning classifiers, including random forest, extra-tress, decision tree, SVM and Neural network. The output of are:\n",
    "a. different trained models with each classifier\n",
    "\n",
    "\n",
    "Note that the default parameters for each model are used in this test. You are highly suggested to explore more parameter combinitions. \n",
    "\n",
    "More details on model fitting and paramters can be found in the sklearn library:\n",
    "\n",
    "Random Forest:https://scikit-learn.org/stable/modules/generated/sklearn.ensemble.RandomForestClassifier.html\n",
    "Extra tress:https://scikit-learn.org/stable/modules/generated/sklearn.ensemble.ExtraTreesClassifier.html\n",
    "Decision Tree:https://scikit-learn.org/stable/modules/tree.html\n",
    "SVM: https://scikit-learn.org/stable/modules/generated/sklearn.svm.SVC.html\n",
    "Neural network: https://scikit-learn.org/stable/modules/neural_networks_supervised.html"
   ]
  },
  {
   "cell_type": "markdown",
   "metadata": {},
   "source": [
    "Using this template\n",
    "\n",
    "Set the variables in the first cell to the following:\n",
    "\n",
    "pyeo_path = \"The folder that you cloned pyeo into\"\n",
    "training_tif = \"The path to the stacked image you used for your training data\"\n",
    "training_shp = \"The path to the shapefile you made that contains a field with whole number (intergers) class identifiers\"\n",
    "training_field_name = \"The name of the field in training_shp containing class identifiers. CODE, by default.\"\n",
    "out_dir = \"A directory that the model and related files will be put in\"\n",
    "validation_shp = \"The shapefile containing the valiation data.\"\n",
    "validation_field_name = \"The name of the field in validation_shp containing class identifers. CODE by default.\"\n",
    "\n",
    "Now run each cell.\n"
   ]
  },
  {
   "cell_type": "code",
   "execution_count": 1,
   "metadata": {},
   "outputs": [
    {
     "name": "stderr",
     "output_type": "stream",
     "text": [
      "/opt/tljh/user/lib/python3.6/site-packages/sklearn/ensemble/weight_boosting.py:29: DeprecationWarning: numpy.core.umath_tests is an internal NumPy module and should not be imported. It will be removed in a future NumPy release.\n",
      "  from numpy.core.umath_tests import inner1d\n"
     ]
    },
    {
     "name": "stdout",
     "output_type": "stream",
     "text": [
      "Tenacity, Planet and Multiprocessing are required for Planet data downloading\n"
     ]
    }
   ],
   "source": []
  },
  {
   "cell_type": "code",
   "execution_count": 2,
   "metadata": {},
   "outputs": [],
   "source": [
    "#set input parameters \n",
    "\n",
    "pyeo_path = \"/home/ecci/xxx/pyeo\"\n",
    "training_tif = \"xxx.tif\"\n",
    "training_shp = \"xxx.shp\"\n",
    "training_field_name = 'CODE'\n",
    "out_dir = \"/\"\n",
    "\n",
    "validation_shp = \"xxx.shp\"\n",
    "validation_field_name = 'CODE'\n",
    "\n",
    "tobe_classified_tif = ' '\n"
   ]
  },
  {
   "cell_type": "code",
   "execution_count": null,
   "metadata": {},
   "outputs": [],
   "source": [
    "import os,sys\n",
    "sys.path.append(r\"../templates/\")\n",
    "import PYEO_model\n",
    "sys.path.append(pyeo_path)\n",
    "import pyeo.core as pyeo\n",
    "\n",
    "from sklearn.model_selection import cross_val_score\n",
    "from sklearn.ensemble import RandomForestClassifier\n",
    "from sklearn.ensemble import ExtraTreesClassifier\n",
    "from sklearn.tree import DecisionTreeClassifier\n",
    "from sklearn import svm\n",
    "from sklearn.neural_network import MLPClassifier\n"
   ]
  },
  {
   "cell_type": "code",
   "execution_count": 3,
   "metadata": {},
   "outputs": [],
   "source": [
    "#set output folder\n",
    "out_training_summary = os.path.join(out_dir, 'training_summary.csv')\n"
   ]
  },
  {
   "cell_type": "code",
   "execution_count": 4,
   "metadata": {},
   "outputs": [],
   "source": [
    "# Models that will be compared, add any model you are interested in here, and feel free to change the parameters\n",
    "model_pool = {\n",
    "    'RF':RandomForestClassifier(n_estimators=10, max_depth=None, min_samples_split=2, random_state=0),\n",
    "    \n",
    " #   'SVM': svm.SVC(gamma='auto'),\n",
    "    \n",
    "    'Extree': ExtraTreesClassifier(bootstrap=False, criterion=\"gini\", max_features=0.55, min_samples_leaf=2,\n",
    "    min_samples_split=16, n_estimators=100, n_jobs=-1, class_weight='balanced'),\n",
    "    \n",
    "    'DTree': DecisionTreeClassifier(max_depth=None, min_samples_split=2, random_state=0),\n",
    "    \n",
    "    'NN':MLPClassifier(solver='lbfgs', alpha=1e-5, hidden_layer_sizes=(5, 2), random_state=1)\n",
    "    }"
   ]
  },
  {
   "cell_type": "code",
   "execution_count": 5,
   "metadata": {},
   "outputs": [
    {
     "name": "stderr",
     "output_type": "stream",
     "text": [
      "/home/jupyter-yaqing/Templates/PYEO_model.py:219: FutureWarning: The signature of `Series.to_csv` was aligned to that of `DataFrame.to_csv`, and argument 'header' will change its default value from False to True: please pass an explicit value to suppress this warning.\n",
      "  training_summary.to_csv(out_csv)\n"
     ]
    }
   ],
   "source": [
    "# Get training data and summaries the statistics:\n",
    "features, classes = PYEO_model.get_training_data(training_tif, training_shp, attribute=training_filedname)\n",
    "\n",
    "PYEO_model.summarise_training(in_classes= classes,out_csv= out_training_summary, sumarise_type = 'count')"
   ]
  },
  {
   "cell_type": "code",
   "execution_count": 6,
   "metadata": {},
   "outputs": [
    {
     "name": "stdout",
     "output_type": "stream",
     "text": [
      "Fitting model format...RF\n",
      "score is: 0.8859979984937958\n",
      "saving the model to: Output/template4_comparing_models/RF_model.pkl\n",
      "Fitting model format...Extree\n",
      "score is: 0.8850761990197666\n",
      "saving the model to: Output/template4_comparing_models/Extree_model.pkl\n",
      "Fitting model format...DTree\n",
      "score is: 0.8681375178691603\n",
      "saving the model to: Output/template4_comparing_models/DTree_model.pkl\n",
      "Fitting model format...NN\n",
      "score is: 0.32028621390167944\n",
      "saving the model to: Output/template4_comparing_models/NN_model.pkl\n"
     ]
    }
   ],
   "source": [
    "# Train each model \n",
    "for key, value in model_pool.items():\n",
    "    model_name = key\n",
    "    model_format = value \n",
    "    \n",
    "    trained_model = os.path.join(out_dir,model_name +'_model.pkl')\n",
    "    \n",
    "    print('Fitting model format...' + model_name )\n",
    "    model, scores = PYEO_model.train_model(features,classes, model_format)\n",
    "    print('score is: ' + str(scores.mean()))\n",
    "    \n",
    "    print('saving the model to: ' + trained_model)\n",
    "    PYEO_model.save_model(model, trained_model)   "
   ]
  },
  {
   "cell_type": "code",
   "execution_count": 9,
   "metadata": {},
   "outputs": [
    {
     "name": "stdout",
     "output_type": "stream",
     "text": [
      "Classifying image\n",
      "Classifying 0\n",
      "Classifying 1\n",
      "Classifying 2\n",
      "Classifying 3\n",
      "Classifying 4\n",
      "Classifying 5\n",
      "Classifying 6\n",
      "Classifying 7\n",
      "Classifying 8\n",
      "Classifying 9\n"
     ]
    }
   ],
   "source": [
    "#classify image using each model \n",
    "    out_classified = os.path.join(out_dir, model_name + '_classified.tif')\n",
    "    PYEO_model.classify_image(in_image_path= tobe_classified, model=model, out_image_path= out_classified ,num_chunks =10)#need to chagne num_chunks"
   ]
  },
  {
   "cell_type": "code",
   "execution_count": 10,
   "metadata": {},
   "outputs": [
    {
     "name": "stdout",
     "output_type": "stream",
     "text": [
      "~validating ... Data/Brazil/shp/validation/validation.shp\n",
      "The clipped shapefile to the extent of the raster, resultant shp is saved in Output/template4_comparing_models/outline_clip.shp\n",
      "rasterise the shapefile\n",
      "['0.0', '3.0', 34807252, 1.0]\n",
      "['1.0', '3.0', 3116, 1.0]\n",
      "['2.0', '3.0', 801, 1.0]\n",
      "['4.0', '3.0', 2793, 1.0]\n"
     ]
    }
   ],
   "source": [
    "#validate the map and generate accuracy matrix \n",
    "    PYEO_model.validate_classes(inRaster=out_classified, shpdir= validation_shp , field_name=validation_filedname, \n",
    "                            out_fldr=out_dir,nodata = nodata)"
   ]
  },
  {
   "cell_type": "code",
   "execution_count": null,
   "metadata": {},
   "outputs": [],
   "source": []
  }
 ],
 "metadata": {
  "kernelspec": {
   "display_name": "Python 3",
   "language": "python",
   "name": "python3"
  },
  "language_info": {
   "codemirror_mode": {
    "name": "ipython",
    "version": 3
   },
   "file_extension": ".py",
   "mimetype": "text/x-python",
   "name": "python",
   "nbconvert_exporter": "python",
   "pygments_lexer": "ipython3",
   "version": "3.6.7"
  }
 },
 "nbformat": 4,
 "nbformat_minor": 2
}
