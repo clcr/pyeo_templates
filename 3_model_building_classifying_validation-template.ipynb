{
 "cells": [
  {
   "cell_type": "markdown",
   "metadata": {},
   "source": [
    "# Introduction\n",
    "This is a template to create, apply and validate a machine learning model for land use classificatin. The model is trained and valided with seperate shapefiles. The output include:\n",
    "\n",
    "1. a statistic summary of the input training data for the model (export as .csv file).\n",
    "2. a trained machine learning model. In this example a random forest model is used (export as a .pkl file). \n",
    "3. a classified image using the trained model (export as .tif). \n",
    "4. validating the classified image, generating an accuracy matrix and export as .csv file. \n",
    "\n",
    "# Using this template \n",
    "\n",
    "Set the variables in the first cell to the following:\n",
    "```python\n",
    "pyeo_path = \"The folder that you cloned pyeo into\"\n",
    "training_tif = \"The path to the stacked image you used for your training data\"\n",
    "training_shp = \"The path to the shapefile you made that contains a field with whole number (intergers) class identifiers\"\n",
    "training_field_name = \"The name of the field in training_shp containing class identifiers. CODE, by default.\"\n",
    "out_dir = \"A directory that the model and related files will be put in\"\n",
    "validation_shp = \"The shapefile containing the valiation data.\"\n",
    "validation_field_name = \"The name of the field in validation_shp containing class identifers. CODE by default.\"\n",
    "```\n",
    "\n",
    "Now run each cell."
   ]
  },
  {
   "cell_type": "code",
   "execution_count": 1,
   "metadata": {},
   "outputs": [],
   "source": [
    "pyeo_path = \"/home/ecci/new_directory/pyeo\"\n",
    "training_tif = \"/home/ecci/Documents/data/colombia_cartagena_20170814_20180225.tif\"\n",
    "training_shp = \"/home/ecci/Documents/data/training_colombia.shp\"\n",
    "training_field_name = 'CODE'\n",
    "out_dir = \"/home/ecci/Documents/output\"\n",
    "\n",
    "validation_shp = \"/home/ecci/Documents/data/training_colombia.shp\"\n",
    "validation_field_name = 'CODE'\n",
    "\n",
    "tobe_classified_tif = training_tif"
   ]
  },
  {
   "cell_type": "code",
   "execution_count": 2,
   "metadata": {},
   "outputs": [
    {
     "name": "stderr",
     "output_type": "stream",
     "text": [
      "/home/ecci/miniconda3/envs/test/lib/python3.6/site-packages/sklearn/ensemble/weight_boosting.py:29: DeprecationWarning: numpy.core.umath_tests is an internal NumPy module and should not be imported. It will be removed in a future NumPy release.\n",
      "  from numpy.core.umath_tests import inner1d\n"
     ]
    },
    {
     "name": "stdout",
     "output_type": "stream",
     "text": [
      "Tenacity, Planet and Multiprocessing are required for Planet data downloading\n"
     ]
    }
   ],
   "source": [
    "import os,sys\n",
    "sys.path.append(r\"../templates/\")\n",
    "import PYEO_model\n",
    "sys.path.append(pyeo_path)\n",
    "import pyeo.core as pyeo\n",
    "import numpy as np\n",
    "import csv"
   ]
  },
  {
   "cell_type": "code",
   "execution_count": 3,
   "metadata": {},
   "outputs": [],
   "source": [
    "#set output folder\n",
    "\n",
    "out_model = os.path.join(out_dir,'model.pkl')\n",
    "out_training_summary = os.path.join(out_dir, 'training_summary.csv')\n",
    "out_classified = os.path.join(out_dir, \"2018_classified.tif\")"
   ]
  },
  {
   "cell_type": "code",
   "execution_count": 5,
   "metadata": {},
   "outputs": [
    {
     "name": "stdout",
     "output_type": "stream",
     "text": [
      "Cross-validation scores: [0.99608656 0.98043265 0.9972768  0.99748417 0.99387726]\n",
      "the mean score is: 0.9930314886065099\n"
     ]
    }
   ],
   "source": [
    "features, classes = pyeo.get_training_data(training_tif, training_shp, attribute=training_field_name)\n",
    "\n",
    "model, scores = PYEO_model.train_model_rf(features,classes)\n",
    "PYEO_model.save_model(model, out_model) \n",
    "print(\"Cross-validation scores: {}\".format(scores))\n",
    "print(\"the mean score is: {}\".format(np.mean(scores)))"
   ]
  },
  {
   "cell_type": "code",
   "execution_count": 6,
   "metadata": {},
   "outputs": [
    {
     "name": "stderr",
     "output_type": "stream",
     "text": [
      "/home/ecci/pyeo_templates/PYEO_model.py:219: FutureWarning: The signature of `Series.to_csv` was aligned to that of `DataFrame.to_csv`, and argument 'header' will change its default value from False to True: please pass an explicit value to suppress this warning.\n",
      "  training_summary.to_csv(out_csv)\n"
     ]
    }
   ],
   "source": [
    "# Explore training dataset by export the siganiture of each training pixel and summarise the statistics of each categoriy  \n",
    "sigs = np.vstack((classes, features.T))\n",
    "out_sig= os.path.join(out_dir, 'sig.csv')\n",
    "with open(out_sig , 'w', newline='') as outsig:\n",
    "    writer = csv.writer(outsig)\n",
    "    writer.writerows(sigs.T)\n",
    "# generate statistic summary for each class:\n",
    "PYEO_model.summarise_training(in_classes= classes,out_csv= out_training_summary, sumarise_type = 'count')"
   ]
  },
  {
   "cell_type": "code",
   "execution_count": 7,
   "metadata": {},
   "outputs": [
    {
     "data": {
      "text/plain": [
       "'/home/ecci/Documents/output/2018_classified.tif'"
      ]
     },
     "execution_count": 7,
     "metadata": {},
     "output_type": "execute_result"
    }
   ],
   "source": [
    "#classify image\n",
    "pyeo.classify_image(image_path= tobe_classified_tif, model_path=out_model, class_out_path= out_classified,num_chunks =20)#need to chagne num_chunks\n"
   ]
  },
  {
   "cell_type": "code",
   "execution_count": 8,
   "metadata": {},
   "outputs": [
    {
     "data": {
      "image/png": "[encoded data removed]",
      "text/plain": [
       "<Figure size 432x288 with 1 Axes>"
      ]
     },
     "metadata": {
      "needs_background": "light"
     },
     "output_type": "display_data"
    }
   ],
   "source": [
    "PYEO_model.show_satellite_image(out_classified)"
   ]
  },
  {
   "cell_type": "code",
   "execution_count": 9,
   "metadata": {},
   "outputs": [
    {
     "name": "stdout",
     "output_type": "stream",
     "text": [
      "~validating ... /home/ecci/Documents/data/training_colombia.shp\n",
      "The clipped shapefile to the extent of the raster, resultant shp is saved in /home/ecci/Documents/output/outline_clip.shp\n",
      "rasterise the shapefile\n",
      "['0.0', '1.0', 54477752, 0.909409]\n",
      "['0.0', '2.0', 3747532, 0.062558]\n",
      "['0.0', '3.0', 1679260, 0.028032]\n",
      "['1.0', '1.0', 517343, 0.99915]\n",
      "['1.0', '2.0', 366, 0.000707]\n",
      "['1.0', '3.0', 74, 0.000143]\n",
      "['2.0', '1.0', 4, 0.000396]\n",
      "['2.0', '2.0', 9477, 0.938503]\n",
      "['2.0', '3.0', 617, 0.061101]\n",
      "['3.0', '1.0', 2, 7.5e-05]\n",
      "['3.0', '2.0', 378, 0.01423]\n",
      "['3.0', '3.0', 26184, 0.985695]\n"
     ]
    }
   ],
   "source": [
    "# validate the map and generate accuracy matrix \n",
    "PYEO_model.validate_classes(inRaster=out_classified, shpdir=validation_shp , field_name=validation_field_name, \n",
    "                            out_fldr=out_dir)\n",
    "\n",
    "\n"
   ]
  },
  {
   "cell_type": "code",
   "execution_count": null,
   "metadata": {},
   "outputs": [],
   "source": []
  }
 ],
 "metadata": {
  "kernelspec": {
   "display_name": "Python 3",
   "language": "python",
   "name": "python3"
  },
  "language_info": {
   "codemirror_mode": {
    "name": "ipython",
    "version": 3
   },
   "file_extension": ".py",
   "mimetype": "text/x-python",
   "name": "python",
   "nbconvert_exporter": "python",
   "pygments_lexer": "ipython3",
   "version": "3.6.7"
  }
 },
 "nbformat": 4,
 "nbformat_minor": 2
}
