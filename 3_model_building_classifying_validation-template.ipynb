{
 "cells": [
  {
   "cell_type": "markdown",
   "metadata": {},
   "source": [
    "# Introduction\n",
    "This is a template to create, apply and validate a machine learning model for land use classificatin. The model is trained and valided with seperate shapefiles. The output include:\n",
    "\n",
    "1. a statistic summary of the input training data for the model (export as .csv file).\n",
    "2. a trained machine learning model. In this example a random forest model is used (export as a .pkl file). \n",
    "3. a classified image using the trained model (export as .tif). \n",
    "4. validating the classified image, generating an accuracy matrix and export as .csv file. \n",
    "\n",
    "# Using this template \n",
    "\n",
    "Set the variables in the first cell to the following:\n",
    "```python\n",
    "pyeo_path = \"The folder that you cloned pyeo into\"\n",
    "training_tif = \"The path to the stacked image you used for your training data\"\n",
    "training_shp = \"The path to the shapefile you made that contains a field with whole number (intergers) class identifiers\"\n",
    "training_field_name = \"The name of the field in training_shp containing class identifiers. CODE, by default.\"\n",
    "out_dir = \"A directory that the model and related files will be put in\"\n",
    "validation_shp = \"The shapefile containing the valiation data.\"\n",
    "validation_field_name = \"The name of the field in validation_shp containing class identifers. CODE by default.\"\n",
    "```\n",
    "\n",
    "Now run each cell."
   ]
  },
  {
   "cell_type": "code",
   "execution_count": null,
   "metadata": {},
   "outputs": [],
   "source": [
    "pyeo_path = \"/home/ecci/pyeo\"\n",
    "training_tif = \"xxxx.tif \"\n",
    "training_shp = \"xxxxx.shp\"\n",
    "training_field_name = 'CODE'\n",
    "out_dir = \"Output/template3_model_building/\"\n",
    "\n",
    "validation_shp = \"xxx.shp\"\n",
    "validation_field_name = 'CODE'\n",
    "\n",
    "tobe_classified_tif = training_tif"
   ]
  },
  {
   "cell_type": "code",
   "execution_count": 2,
   "metadata": {},
   "outputs": [
    {
     "name": "stderr",
     "output_type": "stream",
     "text": [
      "/opt/tljh/user/lib/python3.6/site-packages/sklearn/ensemble/weight_boosting.py:29: DeprecationWarning: numpy.core.umath_tests is an internal NumPy module and should not be imported. It will be removed in a future NumPy release.\n",
      "  from numpy.core.umath_tests import inner1d\n"
     ]
    },
    {
     "ename": "ModuleNotFoundError",
     "evalue": "No module named 'pyeo'",
     "output_type": "error",
     "traceback": [
      "\u001b[0;31m---------------------------------------------------------------------------\u001b[0m",
      "\u001b[0;31mModuleNotFoundError\u001b[0m                       Traceback (most recent call last)",
      "\u001b[0;32m<ipython-input-2-37cbd2adea4f>\u001b[0m in \u001b[0;36m<module>\u001b[0;34m\u001b[0m\n\u001b[1;32m      5\u001b[0m \u001b[0;32mimport\u001b[0m \u001b[0mPYEO_model\u001b[0m\u001b[0;34m\u001b[0m\u001b[0;34m\u001b[0m\u001b[0m\n\u001b[1;32m      6\u001b[0m \u001b[0msys\u001b[0m\u001b[0;34m.\u001b[0m\u001b[0mpath\u001b[0m\u001b[0;34m.\u001b[0m\u001b[0mappend\u001b[0m\u001b[0;34m(\u001b[0m\u001b[0mpyeo_path\u001b[0m\u001b[0;34m)\u001b[0m\u001b[0;34m\u001b[0m\u001b[0;34m\u001b[0m\u001b[0m\n\u001b[0;32m----> 7\u001b[0;31m \u001b[0;32mimport\u001b[0m \u001b[0mpyeo\u001b[0m\u001b[0;34m.\u001b[0m\u001b[0mcore\u001b[0m \u001b[0;32mas\u001b[0m \u001b[0mpyeo\u001b[0m\u001b[0;34m\u001b[0m\u001b[0;34m\u001b[0m\u001b[0m\n\u001b[0m\u001b[1;32m      8\u001b[0m \u001b[0;32mimport\u001b[0m \u001b[0mnumpy\u001b[0m \u001b[0;32mas\u001b[0m \u001b[0mnp\u001b[0m\u001b[0;34m\u001b[0m\u001b[0;34m\u001b[0m\u001b[0m\n\u001b[1;32m      9\u001b[0m \u001b[0;32mimport\u001b[0m \u001b[0mcsv\u001b[0m\u001b[0;34m\u001b[0m\u001b[0;34m\u001b[0m\u001b[0m\n",
      "\u001b[0;31mModuleNotFoundError\u001b[0m: No module named 'pyeo'"
     ]
    }
   ],
   "source": [
    "import os,sys\n",
    "sys.path.append(r\"../templates/\")\n",
    "import PYEO_model\n",
    "sys.path.append(pyeo_path)\n",
    "import pyeo.core as pyeo\n",
    "import numpy as np\n",
    "import csv"
   ]
  },
  {
   "cell_type": "code",
   "execution_count": null,
   "metadata": {},
   "outputs": [],
   "source": [
    "#set output folder\n",
    "\n",
    "out_model = os.path.join(out_dir,'model.pkl')\n",
    "out_training_summary = os.path.join(out_dir, 'training_summary.csv')\n",
    "out_classified = os.path.join(out_dir, \"2018_classified.tif\")"
   ]
  },
  {
   "cell_type": "code",
   "execution_count": null,
   "metadata": {},
   "outputs": [],
   "source": [
    "features, classes = pyeo.get_training_data(training_tif, training_shp, attribute=training_field_name)\n",
    "\n",
    "model, scores = PYEO_model.train_model_rf(features,classes)\n",
    "pyeo.save_model(model, out_model) \n",
    "print(\"Cross-validation scores: {}\".format(scores))"
   ]
  },
  {
   "cell_type": "code",
   "execution_count": null,
   "metadata": {},
   "outputs": [],
   "source": [
    "# Explore training dataset by export the siganiture of each training pixel and summarise the statistics of each categoriy  \n",
    "sigs = np.vstack((classes, features.T))\n",
    "out_sig= os.path.join(out_dir, 'sig.csv')\n",
    "with open(out_sig , 'w', newline='') as outsig:\n",
    "    writer = csv.writer(outsig)\n",
    "    writer.writerows(sigs.T)\n",
    "# generate statistic summary for each class:\n",
    "PYEO_model.summarise_training(in_classes= classes,out_csv= out_training_summary, sumarise_type = 'count')"
   ]
  },
  {
   "cell_type": "code",
   "execution_count": null,
   "metadata": {},
   "outputs": [],
   "source": [
    "#classify image\n",
    "pyeo.classify_image(image_path= tobe_classified_tif, model_path=out_model, class_out_path= out_classified,num_chunks =10)#need to chagne num_chunks\n"
   ]
  },
  {
   "cell_type": "code",
   "execution_count": null,
   "metadata": {},
   "outputs": [],
   "source": [
    "PYEO_model.show_satellite_image(out_classified)"
   ]
  },
  {
   "cell_type": "code",
   "execution_count": null,
   "metadata": {},
   "outputs": [],
   "source": [
    "# validate the map and generate accuracy matrix \n",
    "PYEO_model.validate_classes(inRaster=out_classified, shpdir=validation_shp , field_name=validation_field_name, \n",
    "                            out_fldr=out_dir, nodata=nodata)\n",
    "\n",
    "\n"
   ]
  }
 ],
 "metadata": {
  "kernelspec": {
   "display_name": "Python 3",
   "language": "python",
   "name": "python3"
  },
  "language_info": {
   "codemirror_mode": {
    "name": "ipython",
    "version": 3
   },
   "file_extension": ".py",
   "mimetype": "text/x-python",
   "name": "python",
   "nbconvert_exporter": "python",
   "pygments_lexer": "ipython3",
   "version": "3.6.7"
  }
 },
 "nbformat": 4,
 "nbformat_minor": 2
}
